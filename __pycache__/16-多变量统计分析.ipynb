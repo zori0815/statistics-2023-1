{
 "cells": [
  {
   "cell_type": "code",
   "execution_count": null,
   "metadata": {},
   "outputs": [],
   "source": [
    "import pandas as pd  \n",
    "file_path_excel = r'data\\国家认同数据清理后.xlsx'  # 使用原始字符串前缀  \n",
    "df_excel = pd.read_excel(file_path_excel)  \n",
    "# 创建民族、年级和政治面貌的交互表  \n",
    "cross_tab = pd.crosstab(index=[df_excel['民族'], df_excel['年级']],   \n",
    "                       columns=df_excel['政治面貌'],   \n",
    "                       margins=True,normalize=True)  # All 行和列的总和"
   ]
  },
  {
   "cell_type": "code",
   "execution_count": null,
   "metadata": {},
   "outputs": [],
   "source": [
    "from scipy import stats\n",
    "# 假设我们关注的是第二年级的学生（假设年级用数字“2”表示）\n",
    "specific_grade = 2\n",
    "\n",
    "# 筛选出特定年级的数据\n",
    "df_specific_grade = df_excel[df_excel['年级'] == specific_grade]\n",
    "\n",
    "# 创建政治面貌和会打多少分的交互表\n",
    "cross_tab_specific_grade = pd.crosstab(df_specific_grade['会打多少分'], df_specific_grade['政治面貌'])\n",
    "\n",
    "# 进行卡方检验\n",
    "chi2_grade, p_grade, dof_grade, expected_grade = stats.chi2_contingency(cross_tab_specific_grade)\n",
    "\n",
    "print(chi2_grade,p_grade)\n",
    "# chi2_grade, p_grade, dof_grade, expected_grade[:10]  # 展示期望频次的前10个结果，避免过长的输出"
   ]
  },
  {
   "cell_type": "code",
   "execution_count": null,
   "metadata": {},
   "outputs": [],
   "source": [
    "import pandas as pd\n",
    "file_path_excel = R'data\\国家认同数据清理后.xlsx'"
   ]
  },
  {
   "cell_type": "code",
   "execution_count": null,
   "metadata": {},
   "outputs": [],
   "source": [
    "df_excel = pd.read_excel(file_path_excel)\n",
    "# 创建年级、政治面貌和会打多少分的交互表\n",
    "cross_tab = pd.crosstab(index=[df_excel['年级'], df_excel['会打多少分']], \n",
    "                        columns=df_excel['政治面貌'], \n",
    "                        margins=True, normalize=True)  # All 行和列的总和\n",
    "\n",
    "cross_tab"
   ]
  },
  {
   "cell_type": "code",
   "execution_count": null,
   "metadata": {},
   "outputs": [],
   "source": [
    "from scipy import stats\n",
    "# 假设我们关注的是第二年级的学生（假设年级用数字“2”表示）\n",
    "specific_grade = 1\n",
    "\n",
    "# 筛选出特定年级的数据\n",
    "df_specific_grade = df_excel[df_excel['年级'] == specific_grade]\n",
    "\n",
    "# 创建政治面貌和会打多少分的交互表\n",
    "cross_tab_specific_grade = pd.crosstab(df_specific_grade['会打多少分'], df_specific_grade['政治面貌'])\n",
    "\n",
    "# 进行卡方检验\n",
    "chi2_grade, p_grade, dof_grade, expected_grade = stats.chi2_contingency(cross_tab_specific_grade)\n",
    "\n",
    "print(chi2_grade,p_grade)\n",
    "cross_tab_specific_grade"
   ]
  },
  {
   "cell_type": "code",
   "execution_count": null,
   "metadata": {},
   "outputs": [],
   "source": [
    "# 创建政治面貌和会打多少分的交互表\n",
    "cross_tab_specific_grade = pd.crosstab(df_excel['会打多少分'], df_excel['政治面貌'])\n",
    "\n",
    "# 进行卡方检验\n",
    "chi2_grade, p_grade, dof_grade, expected_grade = stats.chi2_contingency(cross_tab_specific_grade)\n",
    "print(chi2_grade, p_grade)"
   ]
  },
  {
   "cell_type": "code",
   "execution_count": null,
   "metadata": {},
   "outputs": [],
   "source": [
    "import pandas as pd  \n",
    "  \n",
    "# 读取数据    \n",
    "data = pd.read_csv(r\"C:\\Users\\无爱一身轻\\Desktop\\statistics-2023-1\\data\\类别变量练习数据 (1).csv\", encoding='gbk')  \n",
    "print(data.head())"
   ]
  },
  {
   "cell_type": "code",
   "execution_count": null,
   "metadata": {},
   "outputs": [],
   "source": [
    "# 父亲工作的饼图  \n",
    "from matplotlib import pyplot as plt\n",
    "\n",
    "\n",
    "parent_jobs = data[\"父亲工作\"].value_counts()  \n",
    "fig, ax = plt.subplots()  \n",
    "ax.pie(parent_jobs, labels=parent_jobs.index, autopct='%1.1f%%')  \n",
    "ax.set_title(\"父亲工作分布\")  \n",
    "plt.show()\n",
    "print(data)"
   ]
  },
  {
   "cell_type": "code",
   "execution_count": null,
   "metadata": {},
   "outputs": [],
   "source": [
    "# 母亲工作的饼图  \n",
    "from matplotlib import pyplot as plt\n",
    "\n",
    "\n",
    "parent_jobs = data[\"母亲工作\"].value_counts()  \n",
    "fig, ax = plt.subplots()  \n",
    "ax.pie(parent_jobs, labels=parent_jobs.index, autopct='%1.1f%%')  \n",
    "ax.set_title(\"母亲工作分布\")  \n",
    "plt.show()\n",
    "print(data)"
   ]
  },
  {
   "cell_type": "code",
   "execution_count": null,
   "metadata": {},
   "outputs": [],
   "source": [
    "cross_tab = pd.crosstab(data[\"父亲工作\"], data[\"母亲工作\"])  \n",
    "print(cross_tab)"
   ]
  },
  {
   "cell_type": "code",
   "execution_count": null,
   "metadata": {},
   "outputs": [],
   "source": [
    "# 计算Cramer's V系数  \n",
    "from scipy.stats import chi2_contingency  \n",
    "stat, p, dof, expected = chi2_contingency(cross_tab)  \n",
    "n = cross_tab.sum().sum()  \n",
    "k = cross_tab.shape[0] * cross_tab.shape[1]  # 校正自由度的数目  \n",
    "phi2 = stat / n  # Pearson's chi-squared statistic  \n",
    "r = ((phi2 / k) - (1 / (k - 1))) ** 0.5  # Cramer's V coefficient  \n",
    "print(f\"Cramer's V系数: {r:.2f}\")"
   ]
  }
 ],
 "metadata": {
  "kernelspec": {
   "display_name": "Python 3",
   "language": "python",
   "name": "python3"
  },
  "language_info": {
   "codemirror_mode": {
    "name": "ipython",
    "version": 3
   },
   "file_extension": ".py",
   "mimetype": "text/x-python",
   "name": "python",
   "nbconvert_exporter": "python",
   "pygments_lexer": "ipython3",
   "version": "3.8.10"
  }
 },
 "nbformat": 4,
 "nbformat_minor": 2
}
