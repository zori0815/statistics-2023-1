{
 "cells": [
  {
   "cell_type": "code",
   "execution_count": null,
   "metadata": {},
   "outputs": [],
   "source": [
    "import mytools"
   ]
  },
  {
   "cell_type": "code",
   "execution_count": null,
   "metadata": {},
   "outputs": [],
   "source": [
    "mytools.相关系数判断(0.2056)"
   ]
  },
  {
   "cell_type": "code",
   "execution_count": null,
   "metadata": {},
   "outputs": [],
   "source": [
    "数据表 = mytools.读取SPSS数据文件(R'data\\identity.sav',True)"
   ]
  },
  {
   "cell_type": "code",
   "execution_count": null,
   "metadata": {},
   "outputs": [],
   "source": [
    "tau_y = mytools.goodmanKruska_tau_y(数据表,'政治面貌','发展信心')\n",
    "print(tau_y)"
   ]
  },
  {
   "cell_type": "code",
   "execution_count": null,
   "metadata": {},
   "outputs": [],
   "source": [
    "mytools.相关系数判断(tau_y)"
   ]
  },
  {
   "cell_type": "code",
   "execution_count": null,
   "metadata": {},
   "outputs": [],
   "source": [
    "from scipy import stats\n"
   ]
  },
  {
   "cell_type": "code",
   "execution_count": null,
   "metadata": {},
   "outputs": [],
   "source": [
    "from scipy import stats\n",
    "x = 数据表['政治面貌']\n",
    "y = 数据表['年级']\n"
   ]
  },
  {
   "cell_type": "code",
   "execution_count": null,
   "metadata": {},
   "outputs": [],
   "source": [
    "tau_y = mytools.goodmanKruska_tau_y(数据表,'政治面貌','年级')\n",
    "print(tau_y)"
   ]
  },
  {
   "cell_type": "code",
   "execution_count": null,
   "metadata": {},
   "outputs": [],
   "source": [
    "import pandas as pd\n",
    "chi2, p, dof, ex = stats.chi2_contingency(pd.crosstab(x, y))\n",
    "print(F\"卡方值：{chi2: .2f}, p值：{p: .4f},自由度:{dof}。\")"
   ]
  },
  {
   "cell_type": "code",
   "execution_count": null,
   "metadata": {},
   "outputs": [],
   "source": [
    "mytools.两个无序类别变量的统计分析(数据表,'政治面貌','年级')"
   ]
  },
  {
   "cell_type": "code",
   "execution_count": null,
   "metadata": {},
   "outputs": [],
   "source": [
    "mytools.两个无序类别变量的统计分析(数据表,'政治面貌','会打多少分')"
   ]
  },
  {
   "cell_type": "code",
   "execution_count": null,
   "metadata": {},
   "outputs": [],
   "source": [
    "from scipy.stats import somersd\n",
    "\"\"\"x,y 应该为定序变量，次序是关键！\"\"\"\n",
    "x = 数据表['年级'].cat.codes\n",
    "y = 数据表['会打多少分'].cat.codes\n",
    "result = somersd(x,y)\n",
    "result.statistic\n",
    "somersd(x,y)"
   ]
  },
  {
   "cell_type": "code",
   "execution_count": null,
   "metadata": {},
   "outputs": [],
   "source": [
    "mytools.两个有序类别变量的统计分析(数据表,'年级','会打多少分')"
   ]
  },
  {
   "cell_type": "code",
   "execution_count": null,
   "metadata": {},
   "outputs": [],
   "source": [
    "import pandas as pd\n",
    "import seaborn as sns\n",
    "\n",
    "# 创建一个示例数据集\n",
    "df = pd.DataFrame({\n",
    "    'gender': ['male', 'male', 'female', 'female', 'male', 'female', 'male', 'female'],\n",
    "    'education_level': ['high school', 'college', 'college', 'graduate', 'high school', 'graduate', 'college', 'graduate'],\n",
    "    'score': [75, 82, 88, 95, 69, 92, 78, 85]\n",
    "})\n",
    "\n",
    "# 创建包含比例和合计的交叉表\n",
    "ct_margins = pd.crosstab(df['gender'], df['education_level'], margins=True)\n",
    "sns.heatmap(ct_margins, cmap='coolwarm', annot=True)\n",
    "print(ct_margins)"
   ]
  }
 ],
 "metadata": {
  "kernelspec": {
   "display_name": "Python 3",
   "language": "python",
   "name": "python3"
  },
  "language_info": {
   "codemirror_mode": {
    "name": "ipython",
    "version": 3
   },
   "file_extension": ".py",
   "mimetype": "text/x-python",
   "name": "python",
   "nbconvert_exporter": "python",
   "pygments_lexer": "ipython3",
   "version": "3.8.10"
  },
  "orig_nbformat": 4
 },
 "nbformat": 4,
 "nbformat_minor": 2
}
